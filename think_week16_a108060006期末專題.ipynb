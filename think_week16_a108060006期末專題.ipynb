{
  "nbformat": 4,
  "nbformat_minor": 0,
  "metadata": {
    "colab": {
      "name": "think_week16_a108060006期末專題.ipynb",
      "provenance": [],
      "collapsed_sections": [],
      "authorship_tag": "ABX9TyMB+5ElufFtYZpJXN4Znhyv",
      "include_colab_link": true
    },
    "kernelspec": {
      "name": "python3",
      "display_name": "Python 3"
    }
  },
  "cells": [
    {
      "cell_type": "markdown",
      "metadata": {
        "id": "view-in-github",
        "colab_type": "text"
      },
      "source": [
        "<a href=\"https://colab.research.google.com/github/mina0226/Computation-Thinking-and-Program-Design-Final-Report/blob/master/think_week16_a108060006%E6%9C%9F%E6%9C%AB%E5%B0%88%E9%A1%8C.ipynb\" target=\"_parent\"><img src=\"https://colab.research.google.com/assets/colab-badge.svg\" alt=\"Open In Colab\"/></a>"
      ]
    },
    {
      "cell_type": "code",
      "metadata": {
        "id": "QVsNlFXFcfBt",
        "colab_type": "code",
        "colab": {
          "base_uri": "https://localhost:8080/",
          "height": 255
        },
        "outputId": "ef528a9b-768d-489d-d41f-05f5151fcc7e"
      },
      "source": [
        "#自我介紹\n",
        "\n",
        "n = 0  #初始條件\n",
        "while n < 3 :  #判斷條件\n",
        "  print(\"歡迎光臨,我是您的點餐機器人Amy\")  \n",
        "  n = n + 1  #更新條件\n",
        "\n",
        "print(\"請問您的名字是?\")\n",
        "name = input(\"我的名字是\")\n",
        "\n",
        "#點主餐\n",
        "\n",
        "serve = input(\"今天想要什麼服務呢?\")\n",
        "if serve ==\"呼叫櫃台人員\" :\n",
        "    print(\"正在為您撥打電話,請稍後...\")\n",
        "else :\n",
        "  print(\"我們沒有這項服務喔!\")\n",
        "\n",
        "serve = input(\"需要點餐服務嗎?\")\n",
        "if serve ==\"好\" :\n",
        "    print(\"我們的餐點有:鮪魚壽司定貫 鮭魚壽司定貫 菲力牛排套餐 銀雪香煎套餐 黑松板豬套餐 嫩煎雞排套餐 什錦五蔬套餐 嫩烤羊腿套餐 鹽烤秋刀魚套餐 沙朗牛排套餐 以上套餐均附前菜（沙拉或餐包或醃漬梅）、湯（洋蔥湯或蘑菇濃湯）、甜品（紅豆麻糬或紫泥芋球）\")\n",
        "\n",
        "food =\"鮭魚壽司定貫\"\n",
        "print(\"我的餐點要\",food)\n",
        "\n",
        "if food == \"鮭魚壽司定貫\" :\n",
        "    print(\"不好意思喔!鮭魚還在海裡游抓不到,我幫您推薦點菲力牛排套餐!\")\n",
        "else :\n",
        "  print(\"客人您別鬧\")\n",
        "\n",
        "print(\"好!!!吧!\")\n",
        "\n",
        "steak = input(\"客人菲力要幾分熟呢?\")\n",
        "print(\"好的。\")"
      ],
      "execution_count": 12,
      "outputs": [
        {
          "output_type": "stream",
          "text": [
            "歡迎光臨,我是您的點餐機器人Amy\n",
            "歡迎光臨,我是您的點餐機器人Amy\n",
            "歡迎光臨,我是您的點餐機器人Amy\n",
            "請問您的名字是?\n",
            "我的名字是Mina\n",
            "今天想要什麼服務呢?呼叫櫃台人員\n",
            "正在為您撥打電話,請稍後...\n",
            "需要點餐服務嗎?好\n",
            "我們的餐點有:鮪魚壽司定貫 鮭魚壽司定貫 菲力牛排套餐 銀雪香煎套餐 黑松板豬套餐 嫩煎雞排套餐 什錦五蔬套餐 嫩烤羊腿套餐 鹽烤秋刀魚套餐 沙朗牛排套餐 以上套餐均附前菜（沙拉或餐包或醃漬梅）、湯（洋蔥湯或蘑菇濃湯）、甜品（紅豆麻糬或紫泥芋球）\n",
            "我的餐點要 鮭魚壽司定貫\n",
            "不好意思喔!鮭魚還在海裡游抓不到,我幫您推薦點菲力牛排套餐!\n",
            "好!!!吧!\n",
            "客人菲力要幾分熟呢?七分\n",
            "好的。\n"
          ],
          "name": "stdout"
        }
      ]
    },
    {
      "cell_type": "code",
      "metadata": {
        "id": "4GQ516qkegLG",
        "colab_type": "code",
        "colab": {
          "base_uri": "https://localhost:8080/",
          "height": 187
        },
        "outputId": "07cdc433-22d0-468c-a2c3-437492e14b00"
      },
      "source": [
        "#點沙拉\n",
        "\n",
        "print(name,\"我看您氣色不好,可以幫您前菜點沙拉好嗎?\")\n",
        "print(\"好,謝謝\")\n",
        "\n",
        "print(\"我們的沙拉有:海鮮沙拉 生菜沙拉 雞肉沙拉\")\n",
        "salad = \"海鮮沙拉\"\n",
        "print(\"我的沙拉要\",salad)\n",
        "\n",
        "if salad == \"雞肉沙拉\" :\n",
        "    print(\"雞肉太老了因為是老母雞\")\n",
        "elif salad == \"海鮮沙拉\" :\n",
        "      print(\"好的沒問題!\")\n",
        "else :\n",
        "  print(\"吃菜就好\")\n",
        "\n",
        "sauce = input(\"那您需要什麼醬呢?\")\n",
        "if sauce ==\"和風醬\" :\n",
        "    print(\"很日式呢!\")\n",
        "elif sauce ==\"胡麻醬\" :\n",
        "      print(\"很胡麻呢!\")\n",
        "else :\n",
        "  print(\"啊醬沒了!沒關係吃原味就好\")\n",
        "\n",
        "#點湯\n",
        "\n",
        "soup = input(\"好喔客人!那湯品有洋蔥湯跟蘑菇濃湯要哪一種呢?\")\n",
        "if soup ==\"洋蔥湯\" :\n",
        "    print(\"不好意思洋蔥剩一點,我幫您加洋蔥圈,味道也有洋蔥味,差不多啦!\")\n",
        "else :\n",
        "  print(\"好的\")\n",
        "\n",
        "print(\"客人:喔...好喔...\")      "
      ],
      "execution_count": 8,
      "outputs": [
        {
          "output_type": "stream",
          "text": [
            "Mina 我看您氣色不好,可以幫您前菜點沙拉好嗎?\n",
            "好,謝謝\n",
            "我們的沙拉有:海鮮沙拉 生菜沙拉 雞肉沙拉\n",
            "我的沙拉要 海鮮沙拉\n",
            "好的沒問題!\n",
            "那您需要什麼醬呢?和風醬\n",
            "很日式呢!\n",
            "好喔客人!那湯品有洋蔥湯跟蘑菇濃湯要哪一種呢?洋蔥湯\n",
            "不好意思洋蔥剩一點,我幫您加洋蔥圈,味道也有洋蔥味,差不多啦!\n",
            "客人:喔...好喔...\n"
          ],
          "name": "stdout"
        }
      ]
    },
    {
      "cell_type": "code",
      "metadata": {
        "id": "5ikhKp-KoY1T",
        "colab_type": "code",
        "colab": {
          "base_uri": "https://localhost:8080/",
          "height": 170
        },
        "outputId": "5c5470f3-9133-4e65-bc4e-74fa941c85f7"
      },
      "source": [
        "#點甜點\n",
        "\n",
        "dessert = input(\"那最後甜點有紅豆麻糬跟紫泥芋球,請問要哪款呢?\")\n",
        "if dessert ==\"紫泥芋球\" :\n",
        "    print(\"好的!\",name,\"紫泥芋球要盡快吃,不然會融化,就不好吃了!\")\n",
        "else :\n",
        "  print(\"紅豆跟麻糬很搭呢!\")    \n",
        "print(\"客人:了解\")\n",
        "\n",
        "#結帳\n",
        "\n",
        "print(name,\"您的餐點總共1487元\")\n",
        "print(\"期待\",name,\"下次光臨,您的光顧是我們的感動,啾咪!\")\n",
        "print(\"客人:真的會感動,因為我不會再來了\")\n",
        "\n",
        "#道別\n",
        "\n",
        "n = 0  #初始條件\n",
        "while n < 3 :  #判斷條件\n",
        "  print(\"謝謝惠顧,我是您的點餐機器人Amy\")\n",
        "  n = n + 1 #更新條件"
      ],
      "execution_count": 11,
      "outputs": [
        {
          "output_type": "stream",
          "text": [
            "那最後甜點有紅豆麻糬跟紫泥芋球,請問要哪款呢?紅豆麻糬\n",
            "紅豆跟麻糬很搭呢!\n",
            "客人:了解\n",
            "Mina 您的餐點總共1487元\n",
            "期待 Mina 下次光臨,您的光顧是我們的感動,啾咪!\n",
            "客人:真的會感動,因為我不會再來了\n",
            "謝謝惠顧,我是您的點餐機器人Amy\n",
            "謝謝惠顧,我是您的點餐機器人Amy\n",
            "謝謝惠顧,我是您的點餐機器人Amy\n"
          ],
          "name": "stdout"
        }
      ]
    },
    {
      "cell_type": "markdown",
      "metadata": {
        "id": "6K6vf5kmsYbf",
        "colab_type": "text"
      },
      "source": [
        "小組成員: A108060006 何妤宣\n",
        "         A108060008 黃冠瑋\n",
        "         A108060010 高佩賢\n",
        "         A108060098 黎孟承"
      ]
    }
  ]
}